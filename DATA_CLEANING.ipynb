{
 "cells": [
  {
   "cell_type": "markdown",
   "id": "82ba9859",
   "metadata": {
    "papermill": {
     "duration": 0.008392,
     "end_time": "2022-06-22T23:12:04.131491",
     "exception": false,
     "start_time": "2022-06-22T23:12:04.123099",
     "status": "completed"
    },
    "tags": []
   },
   "source": [
    "<font size=\"6\" style=\"color:#ce4257\">AMEX : Data cleaning</font>"
   ]
  },
  {
   "cell_type": "markdown",
   "id": "90f6a39c",
   "metadata": {
    "papermill": {
     "duration": 0.006731,
     "end_time": "2022-06-22T23:12:04.145156",
     "exception": false,
     "start_time": "2022-06-22T23:12:04.138425",
     "status": "completed"
    },
    "tags": []
   },
   "source": [
    "<font size=\"5\" style=\"color:#219ebc\">Table of contents</font>\n",
    "\n",
    "- [Memory Usage : Datatype conversion](#0)\n",
    "\n",
    "- [Feture engineering](#1)\n",
    "\n",
    "- [Removing irrelevant data](#2)\n",
    "\n",
    "- [Handling missing data](#3)\n",
    "\n"
   ]
  },
  {
   "cell_type": "code",
   "execution_count": 1,
   "id": "6349f468",
   "metadata": {
    "_cell_guid": "b1076dfc-b9ad-4769-8c92-a6c4dae69d19",
    "_uuid": "8f2839f25d086af736a60e9eeb907d3b93b6e0e5",
    "execution": {
     "iopub.execute_input": "2022-06-22T23:12:04.161024Z",
     "iopub.status.busy": "2022-06-22T23:12:04.159887Z",
     "iopub.status.idle": "2022-06-22T23:12:06.995275Z",
     "shell.execute_reply": "2022-06-22T23:12:06.994454Z"
    },
    "papermill": {
     "duration": 2.845693,
     "end_time": "2022-06-22T23:12:06.997555",
     "exception": false,
     "start_time": "2022-06-22T23:12:04.151862",
     "status": "completed"
    },
    "tags": []
   },
   "outputs": [],
   "source": [
    "%%capture --no-display\n",
    "\n",
    "import pandas as pd \n",
    "import numpy as np \n",
    "\n",
    "import seaborn as sb\n",
    "import matplotlib.pyplot as plt\n",
    "from matplotlib.colors import ListedColormap, LinearSegmentedColormap,rgb2hex \n",
    "\n",
    "from sklearn.experimental import enable_iterative_imputer\n",
    "from sklearn.impute import IterativeImputer\n",
    "\n",
    "import gc"
   ]
  },
  {
   "cell_type": "code",
   "execution_count": 2,
   "id": "4ce58e34",
   "metadata": {
    "execution": {
     "iopub.execute_input": "2022-06-22T23:12:07.012684Z",
     "iopub.status.busy": "2022-06-22T23:12:07.011983Z",
     "iopub.status.idle": "2022-06-22T23:12:07.018507Z",
     "shell.execute_reply": "2022-06-22T23:12:07.017824Z"
    },
    "papermill": {
     "duration": 0.016297,
     "end_time": "2022-06-22T23:12:07.020690",
     "exception": false,
     "start_time": "2022-06-22T23:12:07.004393",
     "status": "completed"
    },
    "tags": []
   },
   "outputs": [],
   "source": [
    "def get_colormap(N:int=20):\n",
    "    \"\"\"\n",
    "        Returns a rgb and hex cyan to pink colormap with the specified number of segmentations.\n",
    "    \"\"\"\n",
    "    rgb_colors = LinearSegmentedColormap.from_list('my_colormap',\n",
    "                                    ['#bbd5de','#6495ed','#ff355d'],\n",
    "                                    N=N)\n",
    "    hex_colors = [rgb2hex(rgb_colors(i)) for i in range(rgb_colors.N)]\n",
    "    return rgb_colors,hex_colors"
   ]
  },
  {
   "cell_type": "code",
   "execution_count": 3,
   "id": "f98626dd",
   "metadata": {
    "execution": {
     "iopub.execute_input": "2022-06-22T23:12:07.035455Z",
     "iopub.status.busy": "2022-06-22T23:12:07.034823Z",
     "iopub.status.idle": "2022-06-22T23:12:07.038963Z",
     "shell.execute_reply": "2022-06-22T23:12:07.038315Z"
    },
    "papermill": {
     "duration": 0.013175,
     "end_time": "2022-06-22T23:12:07.040612",
     "exception": false,
     "start_time": "2022-06-22T23:12:07.027437",
     "status": "completed"
    },
    "tags": []
   },
   "outputs": [],
   "source": [
    "TRAIN_CSV = '../input/amexfeather/train_data.ftr'"
   ]
  },
  {
   "cell_type": "code",
   "execution_count": 4,
   "id": "a7bec3eb",
   "metadata": {
    "execution": {
     "iopub.execute_input": "2022-06-22T23:12:07.055146Z",
     "iopub.status.busy": "2022-06-22T23:12:07.054889Z",
     "iopub.status.idle": "2022-06-22T23:12:28.644160Z",
     "shell.execute_reply": "2022-06-22T23:12:28.643326Z"
    },
    "papermill": {
     "duration": 21.599347,
     "end_time": "2022-06-22T23:12:28.646468",
     "exception": false,
     "start_time": "2022-06-22T23:12:07.047121",
     "status": "completed"
    },
    "tags": []
   },
   "outputs": [],
   "source": [
    "train_df = pd.read_feather(TRAIN_CSV)"
   ]
  },
  {
   "cell_type": "markdown",
   "id": "60dcd95a",
   "metadata": {
    "papermill": {
     "duration": 0.006673,
     "end_time": "2022-06-22T23:12:28.660537",
     "exception": false,
     "start_time": "2022-06-22T23:12:28.653864",
     "status": "completed"
    },
    "tags": []
   },
   "source": [
    "<font size=\"5\" style=\"color:#219ebc\">Memory Usage : Datatype conversion</font>\n",
    "<div id=\"0\">\n",
    "\n",
    "Tools like Spark can easily handle large datasets (100's of GB to TB), but taking full advantage of their capabilities usually requires some kind of distributed system. Unlike pandas, it lacks rich feature sets for high quality data cleaning, exploration, and analysis. So, for medium-sized data like this we’re better off trying to get more out of pandas, rather than switching to a different tool.\n",
    "\n",
    "Here are some tips to reduce the memory usage :\n",
    "\n",
    "- Tip 1: Free Memory using gc.collect(): \n",
    "In python notebook once a dataset loads into RAM it does not free on its own.So if we load a huge dataframe like above into pandas, and then make a copy of it and never use it again, that original dataframe will still be in RAM consuming memory.Therefore we should adopt the habit of deleting dataframe when it is no longer in use to save memory.\n",
    "\n",
    "- Tip 2: Datatype Conversions: \n",
    "We can verify the data type used in every feature and convert them to a more suitable type in order to better fit the variable characteristincs and avoid precision redundancy.\n",
    "\n",
    "- Tip 3: Memory leaks: \n",
    "We can avoid memory leaks by removing temporary variables when we no longer need them.The better method of avoiding memory leaks is doing data processing inside a function. It creates a new scope for the intermediate variables and removes them automatically when the interpreter exits the function."
   ]
  },
  {
   "cell_type": "code",
   "execution_count": 5,
   "id": "3af2443b",
   "metadata": {
    "execution": {
     "iopub.execute_input": "2022-06-22T23:12:28.675148Z",
     "iopub.status.busy": "2022-06-22T23:12:28.674816Z",
     "iopub.status.idle": "2022-06-22T23:12:28.680597Z",
     "shell.execute_reply": "2022-06-22T23:12:28.679878Z"
    },
    "papermill": {
     "duration": 0.015017,
     "end_time": "2022-06-22T23:12:28.682196",
     "exception": false,
     "start_time": "2022-06-22T23:12:28.667179",
     "status": "completed"
    },
    "tags": []
   },
   "outputs": [],
   "source": [
    "def get_nunique_features(df:pd.DataFrame,thres:int=50)->list:\n",
    "    \"\"\"\n",
    "        Returns the column names that have less unique values than the specified threshold.\n",
    "    \"\"\"\n",
    "    cat_features = []\n",
    "    for column in df.columns:\n",
    "        uniques = np.sort(df[column].dropna().unique())\n",
    "        num_unique = len(uniques)\n",
    "        if (num_unique<thres):\n",
    "            print(f'Column {column} has : {num_unique} unique values , ranging from {uniques[0]} to {uniques[-1]} ({df[column].dtype})')\n",
    "            cat_features.append(column)\n",
    "    return cat_features\n"
   ]
  },
  {
   "cell_type": "markdown",
   "id": "5c0f21f1",
   "metadata": {
    "papermill": {
     "duration": 0.006316,
     "end_time": "2022-06-22T23:12:28.695260",
     "exception": false,
     "start_time": "2022-06-22T23:12:28.688944",
     "status": "completed"
    },
    "tags": []
   },
   "source": [
    "- We can see that tere are some numerical data type features that have only a few possible values, we can convert them to category. \n",
    "\n",
    "- D_87 seems to have only one posible value (1), that might be due to a high percetage of nan values."
   ]
  },
  {
   "cell_type": "code",
   "execution_count": 6,
   "id": "a2aeb3f6",
   "metadata": {
    "execution": {
     "iopub.execute_input": "2022-06-22T23:12:28.710583Z",
     "iopub.status.busy": "2022-06-22T23:12:28.709726Z",
     "iopub.status.idle": "2022-06-22T23:12:54.591052Z",
     "shell.execute_reply": "2022-06-22T23:12:54.590210Z"
    },
    "papermill": {
     "duration": 25.890859,
     "end_time": "2022-06-22T23:12:54.593190",
     "exception": false,
     "start_time": "2022-06-22T23:12:28.702331",
     "status": "completed"
    },
    "tags": []
   },
   "outputs": [
    {
     "name": "stdout",
     "output_type": "stream",
     "text": [
      "Column D_63 has : 6 unique values , ranging from CL to XZ (category)\n",
      "Column D_64 has : 5 unique values , ranging from  to U (category)\n",
      "Column D_66 has : 2 unique values , ranging from 0.0 to 1.0 (category)\n",
      "Column D_68 has : 7 unique values , ranging from 0.0 to 6.0 (category)\n",
      "Column B_30 has : 3 unique values , ranging from 0.0 to 2.0 (category)\n",
      "Column D_87 has : 1 unique values , ranging from 1.0 to 1.0 (float16)\n",
      "Column B_31 has : 2 unique values , ranging from 0.0 to 1.0 (float16)\n",
      "Column B_38 has : 7 unique values , ranging from 1.0 to 7.0 (category)\n",
      "Column D_114 has : 2 unique values , ranging from 0.0 to 1.0 (category)\n",
      "Column D_116 has : 2 unique values , ranging from 0.0 to 1.0 (category)\n",
      "Column D_117 has : 7 unique values , ranging from -1.0 to 6.0 (category)\n",
      "Column D_120 has : 2 unique values , ranging from 0.0 to 1.0 (category)\n",
      "Column D_126 has : 3 unique values , ranging from -1.0 to 1.0 (category)\n",
      "Column target has : 2 unique values , ranging from 0 to 1 (int64)\n"
     ]
    }
   ],
   "source": [
    "cat_features = get_nunique_features(train_df)\n",
    "train_df[cat_features] = train_df[cat_features].astype('category')\n",
    "\n",
    "del cat_features"
   ]
  },
  {
   "cell_type": "markdown",
   "id": "a2590f33",
   "metadata": {
    "papermill": {
     "duration": 0.007076,
     "end_time": "2022-06-22T23:12:54.608020",
     "exception": false,
     "start_time": "2022-06-22T23:12:54.600944",
     "status": "completed"
    },
    "tags": []
   },
   "source": [
    "- The continous variables seems to have the lowest precision possible (16 bits) so no neeed to convert those"
   ]
  },
  {
   "cell_type": "code",
   "execution_count": 7,
   "id": "df79f04e",
   "metadata": {
    "execution": {
     "iopub.execute_input": "2022-06-22T23:12:54.624050Z",
     "iopub.status.busy": "2022-06-22T23:12:54.623488Z",
     "iopub.status.idle": "2022-06-22T23:12:54.634105Z",
     "shell.execute_reply": "2022-06-22T23:12:54.633348Z"
    },
    "papermill": {
     "duration": 0.021199,
     "end_time": "2022-06-22T23:12:54.636394",
     "exception": false,
     "start_time": "2022-06-22T23:12:54.615195",
     "status": "completed"
    },
    "tags": []
   },
   "outputs": [
    {
     "data": {
      "text/plain": [
       "float16           175\n",
       "category           14\n",
       "object              1\n",
       "datetime64[ns]      1\n",
       "dtype: int64"
      ]
     },
     "execution_count": 7,
     "metadata": {},
     "output_type": "execute_result"
    }
   ],
   "source": [
    "train_df.dtypes.astype(str).value_counts()"
   ]
  },
  {
   "cell_type": "markdown",
   "id": "f0cd009e",
   "metadata": {
    "papermill": {
     "duration": 0.007083,
     "end_time": "2022-06-22T23:12:54.650730",
     "exception": false,
     "start_time": "2022-06-22T23:12:54.643647",
     "status": "completed"
    },
    "tags": []
   },
   "source": [
    "<font size=\"5\" style=\"color:#219ebc\">Removing irrelevant data</font>\n",
    "<div id=\"1\">\n",
    "\n",
    "In general, it is recommended to avoid having correlated features. \n",
    "\n",
    "A group of highly correlated features will not bring additional information and will increase the complexity of the algorithm."
   ]
  },
  {
   "cell_type": "code",
   "execution_count": 8,
   "id": "84e7b5e0",
   "metadata": {
    "execution": {
     "iopub.execute_input": "2022-06-22T23:12:54.666879Z",
     "iopub.status.busy": "2022-06-22T23:12:54.666202Z",
     "iopub.status.idle": "2022-06-22T23:12:54.673135Z",
     "shell.execute_reply": "2022-06-22T23:12:54.672325Z"
    },
    "papermill": {
     "duration": 0.016649,
     "end_time": "2022-06-22T23:12:54.674859",
     "exception": false,
     "start_time": "2022-06-22T23:12:54.658210",
     "status": "completed"
    },
    "tags": []
   },
   "outputs": [],
   "source": [
    "def get_numerical_correlated(df:pd.DataFrame,thresh:float=0.99)->list:  \n",
    "    \"\"\"\n",
    "        Returns a list containing the features that have a linear correlation greater than the specified threshold.\n",
    "    \"\"\"\n",
    "    high_correlated_features=[]\n",
    "    df = df.select_dtypes(include=np.number)\n",
    "    corr=df.sample(1000000).corr()\n",
    "    for feature in range(len(corr)):\n",
    "        for other_feature in range(len(corr)):\n",
    "            \n",
    "            if feature!=other_feature and \\\n",
    "               df.columns[other_feature] not in high_correlated_features and \\\n",
    "               abs(corr.iloc[feature][other_feature]) >= thresh:\n",
    "                \n",
    "                print(f\"{df.columns[feature]} and {df.columns[other_feature]} are highly correlated ({corr.iloc[feature][other_feature]:.3f})\") \n",
    "                high_correlated_features.append(df.columns[feature])\n",
    "                break\n",
    "    return high_correlated_features "
   ]
  },
  {
   "cell_type": "code",
   "execution_count": 9,
   "id": "0e13c5cc",
   "metadata": {
    "execution": {
     "iopub.execute_input": "2022-06-22T23:12:54.691033Z",
     "iopub.status.busy": "2022-06-22T23:12:54.690777Z",
     "iopub.status.idle": "2022-06-22T23:14:10.050311Z",
     "shell.execute_reply": "2022-06-22T23:14:10.048564Z"
    },
    "papermill": {
     "duration": 75.36981,
     "end_time": "2022-06-22T23:14:10.052091",
     "exception": false,
     "start_time": "2022-06-22T23:12:54.682281",
     "status": "completed"
    },
    "tags": []
   },
   "outputs": [
    {
     "name": "stdout",
     "output_type": "stream",
     "text": [
      "B_1 and B_11 are highly correlated (0.996)\n",
      "B_7 and B_23 are highly correlated (0.995)\n",
      "D_62 and D_77 are highly correlated (1.000)\n",
      "D_103 and D_104 are highly correlated (1.000)\n",
      "D_118 and D_119 are highly correlated (0.995)\n",
      "D_139 and D_141 are highly correlated (0.998)\n",
      "D_141 and D_143 are highly correlated (0.998)\n"
     ]
    }
   ],
   "source": [
    "dependent_features= get_numerical_correlated(train_df,0.99)"
   ]
  },
  {
   "cell_type": "code",
   "execution_count": 10,
   "id": "a0c52293",
   "metadata": {
    "execution": {
     "iopub.execute_input": "2022-06-22T23:14:10.068775Z",
     "iopub.status.busy": "2022-06-22T23:14:10.068486Z",
     "iopub.status.idle": "2022-06-22T23:14:10.074074Z",
     "shell.execute_reply": "2022-06-22T23:14:10.073196Z"
    },
    "papermill": {
     "duration": 0.016457,
     "end_time": "2022-06-22T23:14:10.076350",
     "exception": false,
     "start_time": "2022-06-22T23:14:10.059893",
     "status": "completed"
    },
    "tags": []
   },
   "outputs": [
    {
     "name": "stdout",
     "output_type": "stream",
     "text": [
      "B_1 B_7 D_62 D_103 D_118 D_139 D_141\n"
     ]
    }
   ],
   "source": [
    "print(*dependent_features)"
   ]
  },
  {
   "cell_type": "code",
   "execution_count": 11,
   "id": "26c2272e",
   "metadata": {
    "execution": {
     "iopub.execute_input": "2022-06-22T23:14:10.093535Z",
     "iopub.status.busy": "2022-06-22T23:14:10.093254Z",
     "iopub.status.idle": "2022-06-22T23:14:14.423845Z",
     "shell.execute_reply": "2022-06-22T23:14:14.423118Z"
    },
    "papermill": {
     "duration": 4.340574,
     "end_time": "2022-06-22T23:14:14.425524",
     "exception": false,
     "start_time": "2022-06-22T23:14:10.084950",
     "status": "completed"
    },
    "tags": []
   },
   "outputs": [
    {
     "data": {
      "text/plain": [
       "<seaborn.axisgrid.PairGrid at 0x7f5f9c171110>"
      ]
     },
     "execution_count": 11,
     "metadata": {},
     "output_type": "execute_result"
    },
    {
     "data": {
      "image/png": "[encoded data removed]",
      "text/plain": [
       "<Figure size 474.375x432 with 1 Axes>"
      ]
     },
     "metadata": {
      "needs_background": "light"
     },
     "output_type": "display_data"
    }
   ],
   "source": [
    "# Feature correlation pair plot example\n",
    "sb.pairplot(data= train_df.sample(100000),x_vars='D_62',height=6,y_vars='D_77',hue='target',palette=get_colormap(2)[1]) "
   ]
  },
  {
   "cell_type": "code",
   "execution_count": 12,
   "id": "7c5ad9dd",
   "metadata": {
    "execution": {
     "iopub.execute_input": "2022-06-22T23:14:14.443165Z",
     "iopub.status.busy": "2022-06-22T23:14:14.442801Z",
     "iopub.status.idle": "2022-06-22T23:14:17.636014Z",
     "shell.execute_reply": "2022-06-22T23:14:17.635164Z"
    },
    "papermill": {
     "duration": 3.20398,
     "end_time": "2022-06-22T23:14:17.637919",
     "exception": false,
     "start_time": "2022-06-22T23:14:14.433939",
     "status": "completed"
    },
    "tags": []
   },
   "outputs": [
    {
     "data": {
      "text/plain": [
       "21"
      ]
     },
     "execution_count": 12,
     "metadata": {},
     "output_type": "execute_result"
    }
   ],
   "source": [
    "train_df.drop(columns=dependent_features,inplace=True)\n",
    "train_df\n",
    "\n",
    "del dependent_features\n",
    "gc.collect()"
   ]
  },
  {
   "cell_type": "markdown",
   "id": "96d854ef",
   "metadata": {
    "papermill": {
     "duration": 0.008197,
     "end_time": "2022-06-22T23:14:17.654907",
     "exception": false,
     "start_time": "2022-06-22T23:14:17.646710",
     "status": "completed"
    },
    "tags": []
   },
   "source": [
    "<font size=\"5\" style=\"color:#219ebc\">Feature engineering</font>\n",
    "<div id=\"2\">\n",
    "\n",
    "To avoid working with such a large dataset, before continuing with the imputation, we are gonnna compress each customer history into a single row using aggregation functions such as mean, standard deviation, min/max and last for numerical features and unique class appearances,count and last for categoricals."
   ]
  },
  {
   "cell_type": "code",
   "execution_count": 13,
   "id": "a93c8c0b",
   "metadata": {
    "execution": {
     "iopub.execute_input": "2022-06-22T23:14:17.672792Z",
     "iopub.status.busy": "2022-06-22T23:14:17.672397Z",
     "iopub.status.idle": "2022-06-22T23:20:36.608785Z",
     "shell.execute_reply": "2022-06-22T23:20:36.607901Z"
    },
    "papermill": {
     "duration": 378.956949,
     "end_time": "2022-06-22T23:20:36.619991",
     "exception": false,
     "start_time": "2022-06-22T23:14:17.663042",
     "status": "completed"
    },
    "tags": []
   },
   "outputs": [
    {
     "name": "stdout",
     "output_type": "stream",
     "text": [
      "shape after engineering (458913, 882)\n"
     ]
    }
   ],
   "source": [
    "def aggregate_by_customer(df:pd.DataFrame)->pd.DataFrame:\n",
    "    \"\"\"\n",
    "        Reduce each customer_ID records to a single row using aggregation functions.\n",
    "    \"\"\"\n",
    "    cat_features = list(df.select_dtypes(include='category').columns)\n",
    "    num_features = list(df.select_dtypes(include=np.number).columns)\n",
    "\n",
    "    test_num_agg = df.groupby(\"customer_ID\")[num_features].agg(['mean', 'std', 'min', 'max', 'last'])\n",
    "    test_num_agg.columns = ['_'.join(x) for x in test_num_agg.columns]\n",
    "\n",
    "    test_cat_agg = df.groupby(\"customer_ID\")[cat_features].agg(['count', 'last', 'nunique'])\n",
    "    test_cat_agg.columns = ['_'.join(x) for x in test_cat_agg.columns]\n",
    "\n",
    "    df = pd.concat([test_num_agg, test_cat_agg], axis=1)\n",
    "    del test_num_agg, test_cat_agg\n",
    "    print('shape after engineering', df.shape )\n",
    "    \n",
    "    return df\n",
    "\n",
    "train_df = aggregate_by_customer(train_df)"
   ]
  },
  {
   "cell_type": "code",
   "execution_count": 14,
   "id": "88c8d310",
   "metadata": {
    "execution": {
     "iopub.execute_input": "2022-06-22T23:20:36.639482Z",
     "iopub.status.busy": "2022-06-22T23:20:36.638632Z",
     "iopub.status.idle": "2022-06-22T23:20:36.847666Z",
     "shell.execute_reply": "2022-06-22T23:20:36.846771Z"
    },
    "papermill": {
     "duration": 0.221212,
     "end_time": "2022-06-22T23:20:36.850546",
     "exception": false,
     "start_time": "2022-06-22T23:20:36.629334",
     "status": "completed"
    },
    "tags": []
   },
   "outputs": [
    {
     "data": {
      "text/html": [
       "<div>\n",
       "<style scoped>\n",
       "    .dataframe tbody tr th:only-of-type {\n",
       "        vertical-align: middle;\n",
       "    }\n",
       "\n",
       "    .dataframe tbody tr th {\n",
       "        vertical-align: top;\n",
       "    }\n",
       "\n",
       "    .dataframe thead th {\n",
       "        text-align: right;\n",
       "    }\n",
       "</style>\n",
       "<table border=\"1\" class=\"dataframe\">\n",
       "  <thead>\n",
       "    <tr style=\"text-align: right;\">\n",
       "      <th></th>\n",
       "      <th>P_2_mean</th>\n",
       "      <th>P_2_std</th>\n",
       "      <th>P_2_min</th>\n",
       "      <th>P_2_max</th>\n",
       "      <th>P_2_last</th>\n",
       "      <th>D_39_mean</th>\n",
       "      <th>D_39_std</th>\n",
       "      <th>D_39_min</th>\n",
       "      <th>D_39_max</th>\n",
       "      <th>D_39_last</th>\n",
       "      <th>...</th>\n",
       "      <th>D_117_nunique</th>\n",
       "      <th>D_120_count</th>\n",
       "      <th>D_120_last</th>\n",
       "      <th>D_120_nunique</th>\n",
       "      <th>D_126_count</th>\n",
       "      <th>D_126_last</th>\n",
       "      <th>D_126_nunique</th>\n",
       "      <th>target_count</th>\n",
       "      <th>target_last</th>\n",
       "      <th>target_nunique</th>\n",
       "    </tr>\n",
       "    <tr>\n",
       "      <th>customer_ID</th>\n",
       "      <th></th>\n",
       "      <th></th>\n",
       "      <th></th>\n",
       "      <th></th>\n",
       "      <th></th>\n",
       "      <th></th>\n",
       "      <th></th>\n",
       "      <th></th>\n",
       "      <th></th>\n",
       "      <th></th>\n",
       "      <th></th>\n",
       "      <th></th>\n",
       "      <th></th>\n",
       "      <th></th>\n",
       "      <th></th>\n",
       "      <th></th>\n",
       "      <th></th>\n",
       "      <th></th>\n",
       "      <th></th>\n",
       "      <th></th>\n",
       "      <th></th>\n",
       "    </tr>\n",
       "  </thead>\n",
       "  <tbody>\n",
       "    <tr>\n",
       "      <th>0000099d6bd597052cdcda90ffabf56573fe9d7c79be5fbac11a8ed792feb62a</th>\n",
       "      <td>0.933594</td>\n",
       "      <td>0.024194</td>\n",
       "      <td>0.868652</td>\n",
       "      <td>0.960449</td>\n",
       "      <td>0.934570</td>\n",
       "      <td>0.010704</td>\n",
       "      <td>0.024440</td>\n",
       "      <td>0.001082</td>\n",
       "      <td>0.091492</td>\n",
       "      <td>0.009117</td>\n",
       "      <td>...</td>\n",
       "      <td>1</td>\n",
       "      <td>13</td>\n",
       "      <td>0.0</td>\n",
       "      <td>1</td>\n",
       "      <td>13</td>\n",
       "      <td>1.0</td>\n",
       "      <td>1</td>\n",
       "      <td>13</td>\n",
       "      <td>0</td>\n",
       "      <td>1</td>\n",
       "    </tr>\n",
       "    <tr>\n",
       "      <th>00000fd6641609c6ece5454664794f0340ad84dddce9a267a310b5ae68e9d8e5</th>\n",
       "      <td>0.899902</td>\n",
       "      <td>0.022097</td>\n",
       "      <td>0.861328</td>\n",
       "      <td>0.929199</td>\n",
       "      <td>0.880371</td>\n",
       "      <td>0.215210</td>\n",
       "      <td>0.199123</td>\n",
       "      <td>0.002224</td>\n",
       "      <td>0.567383</td>\n",
       "      <td>0.178101</td>\n",
       "      <td>...</td>\n",
       "      <td>1</td>\n",
       "      <td>13</td>\n",
       "      <td>0.0</td>\n",
       "      <td>2</td>\n",
       "      <td>13</td>\n",
       "      <td>1.0</td>\n",
       "      <td>1</td>\n",
       "      <td>13</td>\n",
       "      <td>0</td>\n",
       "      <td>1</td>\n",
       "    </tr>\n",
       "    <tr>\n",
       "      <th>00001b22f846c82c51f6e3958ccd81970162bae8b007e80662ef27519fcc18c1</th>\n",
       "      <td>0.878418</td>\n",
       "      <td>0.028837</td>\n",
       "      <td>0.797852</td>\n",
       "      <td>0.904297</td>\n",
       "      <td>0.880859</td>\n",
       "      <td>0.004181</td>\n",
       "      <td>0.002759</td>\n",
       "      <td>0.000802</td>\n",
       "      <td>0.009705</td>\n",
       "      <td>0.009705</td>\n",
       "      <td>...</td>\n",
       "      <td>1</td>\n",
       "      <td>13</td>\n",
       "      <td>0.0</td>\n",
       "      <td>1</td>\n",
       "      <td>13</td>\n",
       "      <td>1.0</td>\n",
       "      <td>1</td>\n",
       "      <td>13</td>\n",
       "      <td>0</td>\n",
       "      <td>1</td>\n",
       "    </tr>\n",
       "    <tr>\n",
       "      <th>000041bdba6ecadd89a52d11886e8eaaec9325906c9723355abb5ca523658edc</th>\n",
       "      <td>0.599121</td>\n",
       "      <td>0.020082</td>\n",
       "      <td>0.567383</td>\n",
       "      <td>0.623535</td>\n",
       "      <td>0.621582</td>\n",
       "      <td>0.048859</td>\n",
       "      <td>0.088490</td>\n",
       "      <td>0.000660</td>\n",
       "      <td>0.268555</td>\n",
       "      <td>0.001082</td>\n",
       "      <td>...</td>\n",
       "      <td>2</td>\n",
       "      <td>13</td>\n",
       "      <td>0.0</td>\n",
       "      <td>1</td>\n",
       "      <td>13</td>\n",
       "      <td>1.0</td>\n",
       "      <td>1</td>\n",
       "      <td>13</td>\n",
       "      <td>0</td>\n",
       "      <td>1</td>\n",
       "    </tr>\n",
       "    <tr>\n",
       "      <th>00007889e4fcd2614b6cbe7f8f3d2e5c728eca32d9eb8ad51ca8b8c4a24cefed</th>\n",
       "      <td>0.891602</td>\n",
       "      <td>0.042316</td>\n",
       "      <td>0.805176</td>\n",
       "      <td>0.940430</td>\n",
       "      <td>0.872070</td>\n",
       "      <td>0.004642</td>\n",
       "      <td>0.002883</td>\n",
       "      <td>0.000030</td>\n",
       "      <td>0.008682</td>\n",
       "      <td>0.005573</td>\n",
       "      <td>...</td>\n",
       "      <td>1</td>\n",
       "      <td>13</td>\n",
       "      <td>0.0</td>\n",
       "      <td>1</td>\n",
       "      <td>13</td>\n",
       "      <td>1.0</td>\n",
       "      <td>1</td>\n",
       "      <td>13</td>\n",
       "      <td>0</td>\n",
       "      <td>1</td>\n",
       "    </tr>\n",
       "    <tr>\n",
       "      <th>...</th>\n",
       "      <td>...</td>\n",
       "      <td>...</td>\n",
       "      <td>...</td>\n",
       "      <td>...</td>\n",
       "      <td>...</td>\n",
       "      <td>...</td>\n",
       "      <td>...</td>\n",
       "      <td>...</td>\n",
       "      <td>...</td>\n",
       "      <td>...</td>\n",
       "      <td>...</td>\n",
       "      <td>...</td>\n",
       "      <td>...</td>\n",
       "      <td>...</td>\n",
       "      <td>...</td>\n",
       "      <td>...</td>\n",
       "      <td>...</td>\n",
       "      <td>...</td>\n",
       "      <td>...</td>\n",
       "      <td>...</td>\n",
       "      <td>...</td>\n",
       "    </tr>\n",
       "    <tr>\n",
       "      <th>ffff41c8a52833b56430603969b9ca48d208e7c192c6a4081a6acc28cf4f8af7</th>\n",
       "      <td>0.848633</td>\n",
       "      <td>0.041953</td>\n",
       "      <td>0.730469</td>\n",
       "      <td>0.895508</td>\n",
       "      <td>0.844238</td>\n",
       "      <td>0.119202</td>\n",
       "      <td>0.195267</td>\n",
       "      <td>0.002237</td>\n",
       "      <td>0.589844</td>\n",
       "      <td>0.447510</td>\n",
       "      <td>...</td>\n",
       "      <td>2</td>\n",
       "      <td>13</td>\n",
       "      <td>1.0</td>\n",
       "      <td>2</td>\n",
       "      <td>13</td>\n",
       "      <td>1.0</td>\n",
       "      <td>1</td>\n",
       "      <td>13</td>\n",
       "      <td>0</td>\n",
       "      <td>1</td>\n",
       "    </tr>\n",
       "    <tr>\n",
       "      <th>ffff518bb2075e4816ee3fe9f3b152c57fc0e6f01bf7fdd3e5b57cfcbee30286</th>\n",
       "      <td>0.859375</td>\n",
       "      <td>0.012459</td>\n",
       "      <td>0.831055</td>\n",
       "      <td>0.868164</td>\n",
       "      <td>0.831055</td>\n",
       "      <td>0.066406</td>\n",
       "      <td>0.123915</td>\n",
       "      <td>0.007328</td>\n",
       "      <td>0.478027</td>\n",
       "      <td>0.033661</td>\n",
       "      <td>...</td>\n",
       "      <td>2</td>\n",
       "      <td>13</td>\n",
       "      <td>0.0</td>\n",
       "      <td>1</td>\n",
       "      <td>13</td>\n",
       "      <td>1.0</td>\n",
       "      <td>1</td>\n",
       "      <td>13</td>\n",
       "      <td>0</td>\n",
       "      <td>1</td>\n",
       "    </tr>\n",
       "    <tr>\n",
       "      <th>ffff9984b999fccb2b6127635ed0736dda94e544e67e026eee4d20f680639ff6</th>\n",
       "      <td>0.786621</td>\n",
       "      <td>0.014292</td>\n",
       "      <td>0.756836</td>\n",
       "      <td>0.802734</td>\n",
       "      <td>0.800293</td>\n",
       "      <td>0.221558</td>\n",
       "      <td>0.182736</td>\n",
       "      <td>0.000223</td>\n",
       "      <td>0.536133</td>\n",
       "      <td>0.267090</td>\n",
       "      <td>...</td>\n",
       "      <td>1</td>\n",
       "      <td>13</td>\n",
       "      <td>0.0</td>\n",
       "      <td>1</td>\n",
       "      <td>13</td>\n",
       "      <td>1.0</td>\n",
       "      <td>1</td>\n",
       "      <td>13</td>\n",
       "      <td>0</td>\n",
       "      <td>1</td>\n",
       "    </tr>\n",
       "    <tr>\n",
       "      <th>ffffa5c46bc8de74f5a4554e74e239c8dee6b9baf388145b2c3d01967fcce461</th>\n",
       "      <td>0.804688</td>\n",
       "      <td>0.037462</td>\n",
       "      <td>0.753906</td>\n",
       "      <td>0.856934</td>\n",
       "      <td>0.753906</td>\n",
       "      <td>0.030884</td>\n",
       "      <td>0.081788</td>\n",
       "      <td>0.001332</td>\n",
       "      <td>0.301025</td>\n",
       "      <td>0.008621</td>\n",
       "      <td>...</td>\n",
       "      <td>2</td>\n",
       "      <td>13</td>\n",
       "      <td>0.0</td>\n",
       "      <td>1</td>\n",
       "      <td>13</td>\n",
       "      <td>1.0</td>\n",
       "      <td>1</td>\n",
       "      <td>13</td>\n",
       "      <td>1</td>\n",
       "      <td>1</td>\n",
       "    </tr>\n",
       "    <tr>\n",
       "      <th>fffff1d38b785cef84adeace64f8f83db3a0c31e8d92eaba8b115f71cab04681</th>\n",
       "      <td>0.983398</td>\n",
       "      <td>0.012916</td>\n",
       "      <td>0.965820</td>\n",
       "      <td>1.005859</td>\n",
       "      <td>0.981934</td>\n",
       "      <td>0.290527</td>\n",
       "      <td>0.176791</td>\n",
       "      <td>0.002230</td>\n",
       "      <td>0.563965</td>\n",
       "      <td>0.002474</td>\n",
       "      <td>...</td>\n",
       "      <td>1</td>\n",
       "      <td>13</td>\n",
       "      <td>0.0</td>\n",
       "      <td>1</td>\n",
       "      <td>13</td>\n",
       "      <td>1.0</td>\n",
       "      <td>1</td>\n",
       "      <td>13</td>\n",
       "      <td>0</td>\n",
       "      <td>1</td>\n",
       "    </tr>\n",
       "  </tbody>\n",
       "</table>\n",
       "<p>458913 rows × 882 columns</p>\n",
       "</div>"
      ],
      "text/plain": [
       "                                                    P_2_mean   P_2_std  \\\n",
       "customer_ID                                                              \n",
       "0000099d6bd597052cdcda90ffabf56573fe9d7c79be5fb...  0.933594  0.024194   \n",
       "00000fd6641609c6ece5454664794f0340ad84dddce9a26...  0.899902  0.022097   \n",
       "00001b22f846c82c51f6e3958ccd81970162bae8b007e80...  0.878418  0.028837   \n",
       "000041bdba6ecadd89a52d11886e8eaaec9325906c97233...  0.599121  0.020082   \n",
       "00007889e4fcd2614b6cbe7f8f3d2e5c728eca32d9eb8ad...  0.891602  0.042316   \n",
       "...                                                      ...       ...   \n",
       "ffff41c8a52833b56430603969b9ca48d208e7c192c6a40...  0.848633  0.041953   \n",
       "ffff518bb2075e4816ee3fe9f3b152c57fc0e6f01bf7fdd...  0.859375  0.012459   \n",
       "ffff9984b999fccb2b6127635ed0736dda94e544e67e026...  0.786621  0.014292   \n",
       "ffffa5c46bc8de74f5a4554e74e239c8dee6b9baf388145...  0.804688  0.037462   \n",
       "fffff1d38b785cef84adeace64f8f83db3a0c31e8d92eab...  0.983398  0.012916   \n",
       "\n",
       "                                                     P_2_min   P_2_max  \\\n",
       "customer_ID                                                              \n",
       "0000099d6bd597052cdcda90ffabf56573fe9d7c79be5fb...  0.868652  0.960449   \n",
       "00000fd6641609c6ece5454664794f0340ad84dddce9a26...  0.861328  0.929199   \n",
       "00001b22f846c82c51f6e3958ccd81970162bae8b007e80...  0.797852  0.904297   \n",
       "000041bdba6ecadd89a52d11886e8eaaec9325906c97233...  0.567383  0.623535   \n",
       "00007889e4fcd2614b6cbe7f8f3d2e5c728eca32d9eb8ad...  0.805176  0.940430   \n",
       "...                                                      ...       ...   \n",
       "ffff41c8a52833b56430603969b9ca48d208e7c192c6a40...  0.730469  0.895508   \n",
       "ffff518bb2075e4816ee3fe9f3b152c57fc0e6f01bf7fdd...  0.831055  0.868164   \n",
       "ffff9984b999fccb2b6127635ed0736dda94e544e67e026...  0.756836  0.802734   \n",
       "ffffa5c46bc8de74f5a4554e74e239c8dee6b9baf388145...  0.753906  0.856934   \n",
       "fffff1d38b785cef84adeace64f8f83db3a0c31e8d92eab...  0.965820  1.005859   \n",
       "\n",
       "                                                    P_2_last  D_39_mean  \\\n",
       "customer_ID                                                               \n",
       "0000099d6bd597052cdcda90ffabf56573fe9d7c79be5fb...  0.934570   0.010704   \n",
       "00000fd6641609c6ece5454664794f0340ad84dddce9a26...  0.880371   0.215210   \n",
       "00001b22f846c82c51f6e3958ccd81970162bae8b007e80...  0.880859   0.004181   \n",
       "000041bdba6ecadd89a52d11886e8eaaec9325906c97233...  0.621582   0.048859   \n",
       "00007889e4fcd2614b6cbe7f8f3d2e5c728eca32d9eb8ad...  0.872070   0.004642   \n",
       "...                                                      ...        ...   \n",
       "ffff41c8a52833b56430603969b9ca48d208e7c192c6a40...  0.844238   0.119202   \n",
       "ffff518bb2075e4816ee3fe9f3b152c57fc0e6f01bf7fdd...  0.831055   0.066406   \n",
       "ffff9984b999fccb2b6127635ed0736dda94e544e67e026...  0.800293   0.221558   \n",
       "ffffa5c46bc8de74f5a4554e74e239c8dee6b9baf388145...  0.753906   0.030884   \n",
       "fffff1d38b785cef84adeace64f8f83db3a0c31e8d92eab...  0.981934   0.290527   \n",
       "\n",
       "                                                    D_39_std  D_39_min  \\\n",
       "customer_ID                                                              \n",
       "0000099d6bd597052cdcda90ffabf56573fe9d7c79be5fb...  0.024440  0.001082   \n",
       "00000fd6641609c6ece5454664794f0340ad84dddce9a26...  0.199123  0.002224   \n",
       "00001b22f846c82c51f6e3958ccd81970162bae8b007e80...  0.002759  0.000802   \n",
       "000041bdba6ecadd89a52d11886e8eaaec9325906c97233...  0.088490  0.000660   \n",
       "00007889e4fcd2614b6cbe7f8f3d2e5c728eca32d9eb8ad...  0.002883  0.000030   \n",
       "...                                                      ...       ...   \n",
       "ffff41c8a52833b56430603969b9ca48d208e7c192c6a40...  0.195267  0.002237   \n",
       "ffff518bb2075e4816ee3fe9f3b152c57fc0e6f01bf7fdd...  0.123915  0.007328   \n",
       "ffff9984b999fccb2b6127635ed0736dda94e544e67e026...  0.182736  0.000223   \n",
       "ffffa5c46bc8de74f5a4554e74e239c8dee6b9baf388145...  0.081788  0.001332   \n",
       "fffff1d38b785cef84adeace64f8f83db3a0c31e8d92eab...  0.176791  0.002230   \n",
       "\n",
       "                                                    D_39_max  D_39_last  ...  \\\n",
       "customer_ID                                                              ...   \n",
       "0000099d6bd597052cdcda90ffabf56573fe9d7c79be5fb...  0.091492   0.009117  ...   \n",
       "00000fd6641609c6ece5454664794f0340ad84dddce9a26...  0.567383   0.178101  ...   \n",
       "00001b22f846c82c51f6e3958ccd81970162bae8b007e80...  0.009705   0.009705  ...   \n",
       "000041bdba6ecadd89a52d11886e8eaaec9325906c97233...  0.268555   0.001082  ...   \n",
       "00007889e4fcd2614b6cbe7f8f3d2e5c728eca32d9eb8ad...  0.008682   0.005573  ...   \n",
       "...                                                      ...        ...  ...   \n",
       "ffff41c8a52833b56430603969b9ca48d208e7c192c6a40...  0.589844   0.447510  ...   \n",
       "ffff518bb2075e4816ee3fe9f3b152c57fc0e6f01bf7fdd...  0.478027   0.033661  ...   \n",
       "ffff9984b999fccb2b6127635ed0736dda94e544e67e026...  0.536133   0.267090  ...   \n",
       "ffffa5c46bc8de74f5a4554e74e239c8dee6b9baf388145...  0.301025   0.008621  ...   \n",
       "fffff1d38b785cef84adeace64f8f83db3a0c31e8d92eab...  0.563965   0.002474  ...   \n",
       "\n",
       "                                                    D_117_nunique  \\\n",
       "customer_ID                                                         \n",
       "0000099d6bd597052cdcda90ffabf56573fe9d7c79be5fb...              1   \n",
       "00000fd6641609c6ece5454664794f0340ad84dddce9a26...              1   \n",
       "00001b22f846c82c51f6e3958ccd81970162bae8b007e80...              1   \n",
       "000041bdba6ecadd89a52d11886e8eaaec9325906c97233...              2   \n",
       "00007889e4fcd2614b6cbe7f8f3d2e5c728eca32d9eb8ad...              1   \n",
       "...                                                           ...   \n",
       "ffff41c8a52833b56430603969b9ca48d208e7c192c6a40...              2   \n",
       "ffff518bb2075e4816ee3fe9f3b152c57fc0e6f01bf7fdd...              2   \n",
       "ffff9984b999fccb2b6127635ed0736dda94e544e67e026...              1   \n",
       "ffffa5c46bc8de74f5a4554e74e239c8dee6b9baf388145...              2   \n",
       "fffff1d38b785cef84adeace64f8f83db3a0c31e8d92eab...              1   \n",
       "\n",
       "                                                    D_120_count  D_120_last  \\\n",
       "customer_ID                                                                   \n",
       "0000099d6bd597052cdcda90ffabf56573fe9d7c79be5fb...           13         0.0   \n",
       "00000fd6641609c6ece5454664794f0340ad84dddce9a26...           13         0.0   \n",
       "00001b22f846c82c51f6e3958ccd81970162bae8b007e80...           13         0.0   \n",
       "000041bdba6ecadd89a52d11886e8eaaec9325906c97233...           13         0.0   \n",
       "00007889e4fcd2614b6cbe7f8f3d2e5c728eca32d9eb8ad...           13         0.0   \n",
       "...                                                         ...         ...   \n",
       "ffff41c8a52833b56430603969b9ca48d208e7c192c6a40...           13         1.0   \n",
       "ffff518bb2075e4816ee3fe9f3b152c57fc0e6f01bf7fdd...           13         0.0   \n",
       "ffff9984b999fccb2b6127635ed0736dda94e544e67e026...           13         0.0   \n",
       "ffffa5c46bc8de74f5a4554e74e239c8dee6b9baf388145...           13         0.0   \n",
       "fffff1d38b785cef84adeace64f8f83db3a0c31e8d92eab...           13         0.0   \n",
       "\n",
       "                                                    D_120_nunique  \\\n",
       "customer_ID                                                         \n",
       "0000099d6bd597052cdcda90ffabf56573fe9d7c79be5fb...              1   \n",
       "00000fd6641609c6ece5454664794f0340ad84dddce9a26...              2   \n",
       "00001b22f846c82c51f6e3958ccd81970162bae8b007e80...              1   \n",
       "000041bdba6ecadd89a52d11886e8eaaec9325906c97233...              1   \n",
       "00007889e4fcd2614b6cbe7f8f3d2e5c728eca32d9eb8ad...              1   \n",
       "...                                                           ...   \n",
       "ffff41c8a52833b56430603969b9ca48d208e7c192c6a40...              2   \n",
       "ffff518bb2075e4816ee3fe9f3b152c57fc0e6f01bf7fdd...              1   \n",
       "ffff9984b999fccb2b6127635ed0736dda94e544e67e026...              1   \n",
       "ffffa5c46bc8de74f5a4554e74e239c8dee6b9baf388145...              1   \n",
       "fffff1d38b785cef84adeace64f8f83db3a0c31e8d92eab...              1   \n",
       "\n",
       "                                                    D_126_count  D_126_last  \\\n",
       "customer_ID                                                                   \n",
       "0000099d6bd597052cdcda90ffabf56573fe9d7c79be5fb...           13         1.0   \n",
       "00000fd6641609c6ece5454664794f0340ad84dddce9a26...           13         1.0   \n",
       "00001b22f846c82c51f6e3958ccd81970162bae8b007e80...           13         1.0   \n",
       "000041bdba6ecadd89a52d11886e8eaaec9325906c97233...           13         1.0   \n",
       "00007889e4fcd2614b6cbe7f8f3d2e5c728eca32d9eb8ad...           13         1.0   \n",
       "...                                                         ...         ...   \n",
       "ffff41c8a52833b56430603969b9ca48d208e7c192c6a40...           13         1.0   \n",
       "ffff518bb2075e4816ee3fe9f3b152c57fc0e6f01bf7fdd...           13         1.0   \n",
       "ffff9984b999fccb2b6127635ed0736dda94e544e67e026...           13         1.0   \n",
       "ffffa5c46bc8de74f5a4554e74e239c8dee6b9baf388145...           13         1.0   \n",
       "fffff1d38b785cef84adeace64f8f83db3a0c31e8d92eab...           13         1.0   \n",
       "\n",
       "                                                    D_126_nunique  \\\n",
       "customer_ID                                                         \n",
       "0000099d6bd597052cdcda90ffabf56573fe9d7c79be5fb...              1   \n",
       "00000fd6641609c6ece5454664794f0340ad84dddce9a26...              1   \n",
       "00001b22f846c82c51f6e3958ccd81970162bae8b007e80...              1   \n",
       "000041bdba6ecadd89a52d11886e8eaaec9325906c97233...              1   \n",
       "00007889e4fcd2614b6cbe7f8f3d2e5c728eca32d9eb8ad...              1   \n",
       "...                                                           ...   \n",
       "ffff41c8a52833b56430603969b9ca48d208e7c192c6a40...              1   \n",
       "ffff518bb2075e4816ee3fe9f3b152c57fc0e6f01bf7fdd...              1   \n",
       "ffff9984b999fccb2b6127635ed0736dda94e544e67e026...              1   \n",
       "ffffa5c46bc8de74f5a4554e74e239c8dee6b9baf388145...              1   \n",
       "fffff1d38b785cef84adeace64f8f83db3a0c31e8d92eab...              1   \n",
       "\n",
       "                                                    target_count  target_last  \\\n",
       "customer_ID                                                                     \n",
       "0000099d6bd597052cdcda90ffabf56573fe9d7c79be5fb...            13            0   \n",
       "00000fd6641609c6ece5454664794f0340ad84dddce9a26...            13            0   \n",
       "00001b22f846c82c51f6e3958ccd81970162bae8b007e80...            13            0   \n",
       "000041bdba6ecadd89a52d11886e8eaaec9325906c97233...            13            0   \n",
       "00007889e4fcd2614b6cbe7f8f3d2e5c728eca32d9eb8ad...            13            0   \n",
       "...                                                          ...          ...   \n",
       "ffff41c8a52833b56430603969b9ca48d208e7c192c6a40...            13            0   \n",
       "ffff518bb2075e4816ee3fe9f3b152c57fc0e6f01bf7fdd...            13            0   \n",
       "ffff9984b999fccb2b6127635ed0736dda94e544e67e026...            13            0   \n",
       "ffffa5c46bc8de74f5a4554e74e239c8dee6b9baf388145...            13            1   \n",
       "fffff1d38b785cef84adeace64f8f83db3a0c31e8d92eab...            13            0   \n",
       "\n",
       "                                                    target_nunique  \n",
       "customer_ID                                                         \n",
       "0000099d6bd597052cdcda90ffabf56573fe9d7c79be5fb...               1  \n",
       "00000fd6641609c6ece5454664794f0340ad84dddce9a26...               1  \n",
       "00001b22f846c82c51f6e3958ccd81970162bae8b007e80...               1  \n",
       "000041bdba6ecadd89a52d11886e8eaaec9325906c97233...               1  \n",
       "00007889e4fcd2614b6cbe7f8f3d2e5c728eca32d9eb8ad...               1  \n",
       "...                                                            ...  \n",
       "ffff41c8a52833b56430603969b9ca48d208e7c192c6a40...               1  \n",
       "ffff518bb2075e4816ee3fe9f3b152c57fc0e6f01bf7fdd...               1  \n",
       "ffff9984b999fccb2b6127635ed0736dda94e544e67e026...               1  \n",
       "ffffa5c46bc8de74f5a4554e74e239c8dee6b9baf388145...               1  \n",
       "fffff1d38b785cef84adeace64f8f83db3a0c31e8d92eab...               1  \n",
       "\n",
       "[458913 rows x 882 columns]"
      ]
     },
     "execution_count": 14,
     "metadata": {},
     "output_type": "execute_result"
    }
   ],
   "source": [
    "train_df"
   ]
  },
  {
   "cell_type": "markdown",
   "id": "dd0ef8f9",
   "metadata": {
    "papermill": {
     "duration": 0.008722,
     "end_time": "2022-06-22T23:20:36.868848",
     "exception": false,
     "start_time": "2022-06-22T23:20:36.860126",
     "status": "completed"
    },
    "tags": []
   },
   "source": [
    "<font size=\"5\" style=\"color:#219ebc\">Handling missing data</font>\n",
    "<div id=\"3\">\n",
    "\n",
    "If a value is missing becuase it doens't exist then it doesn't make sense to try and guess what it might be. These values we probalby do want to keep as NaN. On the other hand, if a value is missing becuase it wasn't recorded, then we can try to guess what it might have been based on the other values in that column and row. \n",
    "In this case we have the following variables:\n",
    "\n",
    "- D_* = Delinquency variables\n",
    "- S_* = Spend variables\n",
    "- P_* = Payment variables\n",
    "- B_* = Balance variables\n",
    "- R_* = Risk variables\n",
    "\n",
    "We can assume that delinquency/risks variables might have a valid missing value if the customer profile has no delinquency/default record.\n",
    "But on the other hand for the payment, spend and balance variables there should not be any missing values since they are already customers, so we are gonna try to predict them.\n",
    "\n",
    "The first method used below is a quite straightforward way of handling missing Data, which directly removes the variables that have missing data. We are going to consider to predict only those that have more than 20 percent of the total data."
   ]
  },
  {
   "cell_type": "code",
   "execution_count": 15,
   "id": "1496859c",
   "metadata": {
    "execution": {
     "iopub.execute_input": "2022-06-22T23:20:36.887592Z",
     "iopub.status.busy": "2022-06-22T23:20:36.887251Z",
     "iopub.status.idle": "2022-06-22T23:20:36.892492Z",
     "shell.execute_reply": "2022-06-22T23:20:36.891749Z"
    },
    "papermill": {
     "duration": 0.016495,
     "end_time": "2022-06-22T23:20:36.894155",
     "exception": false,
     "start_time": "2022-06-22T23:20:36.877660",
     "status": "completed"
    },
    "tags": []
   },
   "outputs": [],
   "source": [
    "def get_nan_percentages(df:pd.DataFrame,thresh:int=0)-> pd.DataFrame:\n",
    "    \"\"\"\n",
    "       Returns the nan frequency percetages of features that surpass the specified threshold.\n",
    "    \"\"\"\n",
    "    null_perc = df.isnull().sum().divide(len(df)).multiply(100).to_frame(name='Missing %')\n",
    "    null_perc = null_perc[null_perc['Missing %']>=thresh].sort_values(by='Missing %')\n",
    "    return null_perc"
   ]
  },
  {
   "cell_type": "markdown",
   "id": "25d12d72",
   "metadata": {
    "papermill": {
     "duration": 0.009295,
     "end_time": "2022-06-22T23:20:36.912787",
     "exception": false,
     "start_time": "2022-06-22T23:20:36.903492",
     "status": "completed"
    },
    "tags": []
   },
   "source": [
    "- We see that they are 22 features that have more than 80% nan values\n",
    "- It seems to bee that the majority of them are delinquncy variables, lets filter those out and drop what is left."
   ]
  },
  {
   "cell_type": "code",
   "execution_count": 16,
   "id": "84cfa79f",
   "metadata": {
    "execution": {
     "iopub.execute_input": "2022-06-22T23:20:36.931490Z",
     "iopub.status.busy": "2022-06-22T23:20:36.931215Z",
     "iopub.status.idle": "2022-06-22T23:20:38.639623Z",
     "shell.execute_reply": "2022-06-22T23:20:38.638657Z"
    },
    "papermill": {
     "duration": 1.720512,
     "end_time": "2022-06-22T23:20:38.642080",
     "exception": false,
     "start_time": "2022-06-22T23:20:36.921568",
     "status": "completed"
    },
    "tags": []
   },
   "outputs": [
    {
     "data": {
      "text/html": [
       "<div>\n",
       "<style scoped>\n",
       "    .dataframe tbody tr th:only-of-type {\n",
       "        vertical-align: middle;\n",
       "    }\n",
       "\n",
       "    .dataframe tbody tr th {\n",
       "        vertical-align: top;\n",
       "    }\n",
       "\n",
       "    .dataframe thead th {\n",
       "        text-align: right;\n",
       "    }\n",
       "</style>\n",
       "<table border=\"1\" class=\"dataframe\">\n",
       "  <thead>\n",
       "    <tr style=\"text-align: right;\">\n",
       "      <th></th>\n",
       "      <th>D_142_max</th>\n",
       "      <th>D_142_mean</th>\n",
       "      <th>D_142_min</th>\n",
       "      <th>D_142_last</th>\n",
       "      <th>D_142_std</th>\n",
       "      <th>D_49_mean</th>\n",
       "      <th>D_49_min</th>\n",
       "      <th>D_49_max</th>\n",
       "      <th>D_49_last</th>\n",
       "      <th>D_132_mean</th>\n",
       "      <th>...</th>\n",
       "      <th>D_110_mean</th>\n",
       "      <th>B_39_std</th>\n",
       "      <th>D_111_std</th>\n",
       "      <th>D_110_std</th>\n",
       "      <th>D_88_last</th>\n",
       "      <th>D_88_max</th>\n",
       "      <th>D_88_min</th>\n",
       "      <th>D_88_mean</th>\n",
       "      <th>D_88_std</th>\n",
       "      <th>D_87_last</th>\n",
       "    </tr>\n",
       "  </thead>\n",
       "  <tbody>\n",
       "    <tr>\n",
       "      <th>Missing %</th>\n",
       "      <td>81.351585</td>\n",
       "      <td>81.351585</td>\n",
       "      <td>81.351585</td>\n",
       "      <td>81.351585</td>\n",
       "      <td>81.827057</td>\n",
       "      <td>86.573708</td>\n",
       "      <td>86.573708</td>\n",
       "      <td>86.573708</td>\n",
       "      <td>86.573708</td>\n",
       "      <td>86.574144</td>\n",
       "      <td>...</td>\n",
       "      <td>99.109417</td>\n",
       "      <td>99.139488</td>\n",
       "      <td>99.146025</td>\n",
       "      <td>99.146025</td>\n",
       "      <td>99.472885</td>\n",
       "      <td>99.472885</td>\n",
       "      <td>99.472885</td>\n",
       "      <td>99.472885</td>\n",
       "      <td>99.567674</td>\n",
       "      <td>99.819356</td>\n",
       "    </tr>\n",
       "  </tbody>\n",
       "</table>\n",
       "<p>1 rows × 102 columns</p>\n",
       "</div>"
      ],
      "text/plain": [
       "           D_142_max  D_142_mean  D_142_min  D_142_last  D_142_std  D_49_mean  \\\n",
       "Missing %  81.351585   81.351585  81.351585   81.351585  81.827057  86.573708   \n",
       "\n",
       "            D_49_min   D_49_max  D_49_last  D_132_mean  ...  D_110_mean  \\\n",
       "Missing %  86.573708  86.573708  86.573708   86.574144  ...   99.109417   \n",
       "\n",
       "            B_39_std  D_111_std  D_110_std  D_88_last   D_88_max   D_88_min  \\\n",
       "Missing %  99.139488  99.146025  99.146025  99.472885  99.472885  99.472885   \n",
       "\n",
       "           D_88_mean   D_88_std  D_87_last  \n",
       "Missing %  99.472885  99.567674  99.819356  \n",
       "\n",
       "[1 rows x 102 columns]"
      ]
     },
     "execution_count": 16,
     "metadata": {},
     "output_type": "execute_result"
    }
   ],
   "source": [
    "missing_percentages = get_nan_percentages(train_df,80).transpose()\n",
    "missing_percentages"
   ]
  },
  {
   "cell_type": "code",
   "execution_count": 17,
   "id": "59fe91c7",
   "metadata": {
    "execution": {
     "iopub.execute_input": "2022-06-22T23:20:38.662483Z",
     "iopub.status.busy": "2022-06-22T23:20:38.662155Z",
     "iopub.status.idle": "2022-06-22T23:20:38.677581Z",
     "shell.execute_reply": "2022-06-22T23:20:38.676854Z"
    },
    "papermill": {
     "duration": 0.027284,
     "end_time": "2022-06-22T23:20:38.679455",
     "exception": false,
     "start_time": "2022-06-22T23:20:38.652171",
     "status": "completed"
    },
    "tags": []
   },
   "outputs": [
    {
     "data": {
      "text/html": [
       "<div>\n",
       "<style scoped>\n",
       "    .dataframe tbody tr th:only-of-type {\n",
       "        vertical-align: middle;\n",
       "    }\n",
       "\n",
       "    .dataframe tbody tr th {\n",
       "        vertical-align: top;\n",
       "    }\n",
       "\n",
       "    .dataframe thead th {\n",
       "        text-align: right;\n",
       "    }\n",
       "</style>\n",
       "<table border=\"1\" class=\"dataframe\">\n",
       "  <thead>\n",
       "    <tr style=\"text-align: right;\">\n",
       "      <th></th>\n",
       "      <th>B_29_last</th>\n",
       "      <th>B_29_max</th>\n",
       "      <th>B_29_min</th>\n",
       "      <th>B_29_mean</th>\n",
       "      <th>B_29_std</th>\n",
       "      <th>B_42_min</th>\n",
       "      <th>B_42_last</th>\n",
       "      <th>B_42_mean</th>\n",
       "      <th>B_42_max</th>\n",
       "      <th>B_42_std</th>\n",
       "      <th>B_39_last</th>\n",
       "      <th>B_39_max</th>\n",
       "      <th>B_39_min</th>\n",
       "      <th>B_39_mean</th>\n",
       "      <th>B_39_std</th>\n",
       "    </tr>\n",
       "  </thead>\n",
       "  <tbody>\n",
       "    <tr>\n",
       "      <th>Missing %</th>\n",
       "      <td>91.978218</td>\n",
       "      <td>91.978218</td>\n",
       "      <td>91.978218</td>\n",
       "      <td>91.978218</td>\n",
       "      <td>92.1508</td>\n",
       "      <td>98.581648</td>\n",
       "      <td>98.581648</td>\n",
       "      <td>98.581648</td>\n",
       "      <td>98.581648</td>\n",
       "      <td>98.622615</td>\n",
       "      <td>99.105277</td>\n",
       "      <td>99.105277</td>\n",
       "      <td>99.105277</td>\n",
       "      <td>99.105277</td>\n",
       "      <td>99.139488</td>\n",
       "    </tr>\n",
       "  </tbody>\n",
       "</table>\n",
       "</div>"
      ],
      "text/plain": [
       "           B_29_last   B_29_max   B_29_min  B_29_mean  B_29_std   B_42_min  \\\n",
       "Missing %  91.978218  91.978218  91.978218  91.978218   92.1508  98.581648   \n",
       "\n",
       "           B_42_last  B_42_mean   B_42_max   B_42_std  B_39_last   B_39_max  \\\n",
       "Missing %  98.581648  98.581648  98.581648  98.622615  99.105277  99.105277   \n",
       "\n",
       "            B_39_min  B_39_mean   B_39_std  \n",
       "Missing %  99.105277  99.105277  99.139488  "
      ]
     },
     "execution_count": 17,
     "metadata": {},
     "output_type": "execute_result"
    }
   ],
   "source": [
    "missing_percentages = missing_percentages.loc[:, ~missing_percentages.columns.str.startswith('D')&~missing_percentages.columns.str.startswith('R')]\n",
    "missing_percentages"
   ]
  },
  {
   "cell_type": "code",
   "execution_count": 18,
   "id": "b83605da",
   "metadata": {
    "execution": {
     "iopub.execute_input": "2022-06-22T23:20:38.699412Z",
     "iopub.status.busy": "2022-06-22T23:20:38.699107Z",
     "iopub.status.idle": "2022-06-22T23:20:40.030978Z",
     "shell.execute_reply": "2022-06-22T23:20:40.030080Z"
    },
    "papermill": {
     "duration": 1.344842,
     "end_time": "2022-06-22T23:20:40.033587",
     "exception": false,
     "start_time": "2022-06-22T23:20:38.688745",
     "status": "completed"
    },
    "tags": []
   },
   "outputs": [
    {
     "data": {
      "text/html": [
       "<div>\n",
       "<style scoped>\n",
       "    .dataframe tbody tr th:only-of-type {\n",
       "        vertical-align: middle;\n",
       "    }\n",
       "\n",
       "    .dataframe tbody tr th {\n",
       "        vertical-align: top;\n",
       "    }\n",
       "\n",
       "    .dataframe thead th {\n",
       "        text-align: right;\n",
       "    }\n",
       "</style>\n",
       "<table border=\"1\" class=\"dataframe\">\n",
       "  <thead>\n",
       "    <tr style=\"text-align: right;\">\n",
       "      <th></th>\n",
       "      <th>P_2_mean</th>\n",
       "      <th>P_2_std</th>\n",
       "      <th>P_2_min</th>\n",
       "      <th>P_2_max</th>\n",
       "      <th>P_2_last</th>\n",
       "      <th>D_39_mean</th>\n",
       "      <th>D_39_std</th>\n",
       "      <th>D_39_min</th>\n",
       "      <th>D_39_max</th>\n",
       "      <th>D_39_last</th>\n",
       "      <th>...</th>\n",
       "      <th>D_117_nunique</th>\n",
       "      <th>D_120_count</th>\n",
       "      <th>D_120_last</th>\n",
       "      <th>D_120_nunique</th>\n",
       "      <th>D_126_count</th>\n",
       "      <th>D_126_last</th>\n",
       "      <th>D_126_nunique</th>\n",
       "      <th>target_count</th>\n",
       "      <th>target_last</th>\n",
       "      <th>target_nunique</th>\n",
       "    </tr>\n",
       "    <tr>\n",
       "      <th>customer_ID</th>\n",
       "      <th></th>\n",
       "      <th></th>\n",
       "      <th></th>\n",
       "      <th></th>\n",
       "      <th></th>\n",
       "      <th></th>\n",
       "      <th></th>\n",
       "      <th></th>\n",
       "      <th></th>\n",
       "      <th></th>\n",
       "      <th></th>\n",
       "      <th></th>\n",
       "      <th></th>\n",
       "      <th></th>\n",
       "      <th></th>\n",
       "      <th></th>\n",
       "      <th></th>\n",
       "      <th></th>\n",
       "      <th></th>\n",
       "      <th></th>\n",
       "      <th></th>\n",
       "    </tr>\n",
       "  </thead>\n",
       "  <tbody>\n",
       "    <tr>\n",
       "      <th>0000099d6bd597052cdcda90ffabf56573fe9d7c79be5fbac11a8ed792feb62a</th>\n",
       "      <td>0.933594</td>\n",
       "      <td>0.024194</td>\n",
       "      <td>0.868652</td>\n",
       "      <td>0.960449</td>\n",
       "      <td>0.934570</td>\n",
       "      <td>0.010704</td>\n",
       "      <td>0.024440</td>\n",
       "      <td>0.001082</td>\n",
       "      <td>0.091492</td>\n",
       "      <td>0.009117</td>\n",
       "      <td>...</td>\n",
       "      <td>1</td>\n",
       "      <td>13</td>\n",
       "      <td>0.0</td>\n",
       "      <td>1</td>\n",
       "      <td>13</td>\n",
       "      <td>1.0</td>\n",
       "      <td>1</td>\n",
       "      <td>13</td>\n",
       "      <td>0</td>\n",
       "      <td>1</td>\n",
       "    </tr>\n",
       "    <tr>\n",
       "      <th>00000fd6641609c6ece5454664794f0340ad84dddce9a267a310b5ae68e9d8e5</th>\n",
       "      <td>0.899902</td>\n",
       "      <td>0.022097</td>\n",
       "      <td>0.861328</td>\n",
       "      <td>0.929199</td>\n",
       "      <td>0.880371</td>\n",
       "      <td>0.215210</td>\n",
       "      <td>0.199123</td>\n",
       "      <td>0.002224</td>\n",
       "      <td>0.567383</td>\n",
       "      <td>0.178101</td>\n",
       "      <td>...</td>\n",
       "      <td>1</td>\n",
       "      <td>13</td>\n",
       "      <td>0.0</td>\n",
       "      <td>2</td>\n",
       "      <td>13</td>\n",
       "      <td>1.0</td>\n",
       "      <td>1</td>\n",
       "      <td>13</td>\n",
       "      <td>0</td>\n",
       "      <td>1</td>\n",
       "    </tr>\n",
       "    <tr>\n",
       "      <th>00001b22f846c82c51f6e3958ccd81970162bae8b007e80662ef27519fcc18c1</th>\n",
       "      <td>0.878418</td>\n",
       "      <td>0.028837</td>\n",
       "      <td>0.797852</td>\n",
       "      <td>0.904297</td>\n",
       "      <td>0.880859</td>\n",
       "      <td>0.004181</td>\n",
       "      <td>0.002759</td>\n",
       "      <td>0.000802</td>\n",
       "      <td>0.009705</td>\n",
       "      <td>0.009705</td>\n",
       "      <td>...</td>\n",
       "      <td>1</td>\n",
       "      <td>13</td>\n",
       "      <td>0.0</td>\n",
       "      <td>1</td>\n",
       "      <td>13</td>\n",
       "      <td>1.0</td>\n",
       "      <td>1</td>\n",
       "      <td>13</td>\n",
       "      <td>0</td>\n",
       "      <td>1</td>\n",
       "    </tr>\n",
       "    <tr>\n",
       "      <th>000041bdba6ecadd89a52d11886e8eaaec9325906c9723355abb5ca523658edc</th>\n",
       "      <td>0.599121</td>\n",
       "      <td>0.020082</td>\n",
       "      <td>0.567383</td>\n",
       "      <td>0.623535</td>\n",
       "      <td>0.621582</td>\n",
       "      <td>0.048859</td>\n",
       "      <td>0.088490</td>\n",
       "      <td>0.000660</td>\n",
       "      <td>0.268555</td>\n",
       "      <td>0.001082</td>\n",
       "      <td>...</td>\n",
       "      <td>2</td>\n",
       "      <td>13</td>\n",
       "      <td>0.0</td>\n",
       "      <td>1</td>\n",
       "      <td>13</td>\n",
       "      <td>1.0</td>\n",
       "      <td>1</td>\n",
       "      <td>13</td>\n",
       "      <td>0</td>\n",
       "      <td>1</td>\n",
       "    </tr>\n",
       "    <tr>\n",
       "      <th>00007889e4fcd2614b6cbe7f8f3d2e5c728eca32d9eb8ad51ca8b8c4a24cefed</th>\n",
       "      <td>0.891602</td>\n",
       "      <td>0.042316</td>\n",
       "      <td>0.805176</td>\n",
       "      <td>0.940430</td>\n",
       "      <td>0.872070</td>\n",
       "      <td>0.004642</td>\n",
       "      <td>0.002883</td>\n",
       "      <td>0.000030</td>\n",
       "      <td>0.008682</td>\n",
       "      <td>0.005573</td>\n",
       "      <td>...</td>\n",
       "      <td>1</td>\n",
       "      <td>13</td>\n",
       "      <td>0.0</td>\n",
       "      <td>1</td>\n",
       "      <td>13</td>\n",
       "      <td>1.0</td>\n",
       "      <td>1</td>\n",
       "      <td>13</td>\n",
       "      <td>0</td>\n",
       "      <td>1</td>\n",
       "    </tr>\n",
       "  </tbody>\n",
       "</table>\n",
       "<p>5 rows × 867 columns</p>\n",
       "</div>"
      ],
      "text/plain": [
       "                                                    P_2_mean   P_2_std  \\\n",
       "customer_ID                                                              \n",
       "0000099d6bd597052cdcda90ffabf56573fe9d7c79be5fb...  0.933594  0.024194   \n",
       "00000fd6641609c6ece5454664794f0340ad84dddce9a26...  0.899902  0.022097   \n",
       "00001b22f846c82c51f6e3958ccd81970162bae8b007e80...  0.878418  0.028837   \n",
       "000041bdba6ecadd89a52d11886e8eaaec9325906c97233...  0.599121  0.020082   \n",
       "00007889e4fcd2614b6cbe7f8f3d2e5c728eca32d9eb8ad...  0.891602  0.042316   \n",
       "\n",
       "                                                     P_2_min   P_2_max  \\\n",
       "customer_ID                                                              \n",
       "0000099d6bd597052cdcda90ffabf56573fe9d7c79be5fb...  0.868652  0.960449   \n",
       "00000fd6641609c6ece5454664794f0340ad84dddce9a26...  0.861328  0.929199   \n",
       "00001b22f846c82c51f6e3958ccd81970162bae8b007e80...  0.797852  0.904297   \n",
       "000041bdba6ecadd89a52d11886e8eaaec9325906c97233...  0.567383  0.623535   \n",
       "00007889e4fcd2614b6cbe7f8f3d2e5c728eca32d9eb8ad...  0.805176  0.940430   \n",
       "\n",
       "                                                    P_2_last  D_39_mean  \\\n",
       "customer_ID                                                               \n",
       "0000099d6bd597052cdcda90ffabf56573fe9d7c79be5fb...  0.934570   0.010704   \n",
       "00000fd6641609c6ece5454664794f0340ad84dddce9a26...  0.880371   0.215210   \n",
       "00001b22f846c82c51f6e3958ccd81970162bae8b007e80...  0.880859   0.004181   \n",
       "000041bdba6ecadd89a52d11886e8eaaec9325906c97233...  0.621582   0.048859   \n",
       "00007889e4fcd2614b6cbe7f8f3d2e5c728eca32d9eb8ad...  0.872070   0.004642   \n",
       "\n",
       "                                                    D_39_std  D_39_min  \\\n",
       "customer_ID                                                              \n",
       "0000099d6bd597052cdcda90ffabf56573fe9d7c79be5fb...  0.024440  0.001082   \n",
       "00000fd6641609c6ece5454664794f0340ad84dddce9a26...  0.199123  0.002224   \n",
       "00001b22f846c82c51f6e3958ccd81970162bae8b007e80...  0.002759  0.000802   \n",
       "000041bdba6ecadd89a52d11886e8eaaec9325906c97233...  0.088490  0.000660   \n",
       "00007889e4fcd2614b6cbe7f8f3d2e5c728eca32d9eb8ad...  0.002883  0.000030   \n",
       "\n",
       "                                                    D_39_max  D_39_last  ...  \\\n",
       "customer_ID                                                              ...   \n",
       "0000099d6bd597052cdcda90ffabf56573fe9d7c79be5fb...  0.091492   0.009117  ...   \n",
       "00000fd6641609c6ece5454664794f0340ad84dddce9a26...  0.567383   0.178101  ...   \n",
       "00001b22f846c82c51f6e3958ccd81970162bae8b007e80...  0.009705   0.009705  ...   \n",
       "000041bdba6ecadd89a52d11886e8eaaec9325906c97233...  0.268555   0.001082  ...   \n",
       "00007889e4fcd2614b6cbe7f8f3d2e5c728eca32d9eb8ad...  0.008682   0.005573  ...   \n",
       "\n",
       "                                                    D_117_nunique  \\\n",
       "customer_ID                                                         \n",
       "0000099d6bd597052cdcda90ffabf56573fe9d7c79be5fb...              1   \n",
       "00000fd6641609c6ece5454664794f0340ad84dddce9a26...              1   \n",
       "00001b22f846c82c51f6e3958ccd81970162bae8b007e80...              1   \n",
       "000041bdba6ecadd89a52d11886e8eaaec9325906c97233...              2   \n",
       "00007889e4fcd2614b6cbe7f8f3d2e5c728eca32d9eb8ad...              1   \n",
       "\n",
       "                                                    D_120_count  D_120_last  \\\n",
       "customer_ID                                                                   \n",
       "0000099d6bd597052cdcda90ffabf56573fe9d7c79be5fb...           13         0.0   \n",
       "00000fd6641609c6ece5454664794f0340ad84dddce9a26...           13         0.0   \n",
       "00001b22f846c82c51f6e3958ccd81970162bae8b007e80...           13         0.0   \n",
       "000041bdba6ecadd89a52d11886e8eaaec9325906c97233...           13         0.0   \n",
       "00007889e4fcd2614b6cbe7f8f3d2e5c728eca32d9eb8ad...           13         0.0   \n",
       "\n",
       "                                                    D_120_nunique  \\\n",
       "customer_ID                                                         \n",
       "0000099d6bd597052cdcda90ffabf56573fe9d7c79be5fb...              1   \n",
       "00000fd6641609c6ece5454664794f0340ad84dddce9a26...              2   \n",
       "00001b22f846c82c51f6e3958ccd81970162bae8b007e80...              1   \n",
       "000041bdba6ecadd89a52d11886e8eaaec9325906c97233...              1   \n",
       "00007889e4fcd2614b6cbe7f8f3d2e5c728eca32d9eb8ad...              1   \n",
       "\n",
       "                                                    D_126_count  D_126_last  \\\n",
       "customer_ID                                                                   \n",
       "0000099d6bd597052cdcda90ffabf56573fe9d7c79be5fb...           13         1.0   \n",
       "00000fd6641609c6ece5454664794f0340ad84dddce9a26...           13         1.0   \n",
       "00001b22f846c82c51f6e3958ccd81970162bae8b007e80...           13         1.0   \n",
       "000041bdba6ecadd89a52d11886e8eaaec9325906c97233...           13         1.0   \n",
       "00007889e4fcd2614b6cbe7f8f3d2e5c728eca32d9eb8ad...           13         1.0   \n",
       "\n",
       "                                                    D_126_nunique  \\\n",
       "customer_ID                                                         \n",
       "0000099d6bd597052cdcda90ffabf56573fe9d7c79be5fb...              1   \n",
       "00000fd6641609c6ece5454664794f0340ad84dddce9a26...              1   \n",
       "00001b22f846c82c51f6e3958ccd81970162bae8b007e80...              1   \n",
       "000041bdba6ecadd89a52d11886e8eaaec9325906c97233...              1   \n",
       "00007889e4fcd2614b6cbe7f8f3d2e5c728eca32d9eb8ad...              1   \n",
       "\n",
       "                                                    target_count  target_last  \\\n",
       "customer_ID                                                                     \n",
       "0000099d6bd597052cdcda90ffabf56573fe9d7c79be5fb...            13            0   \n",
       "00000fd6641609c6ece5454664794f0340ad84dddce9a26...            13            0   \n",
       "00001b22f846c82c51f6e3958ccd81970162bae8b007e80...            13            0   \n",
       "000041bdba6ecadd89a52d11886e8eaaec9325906c97233...            13            0   \n",
       "00007889e4fcd2614b6cbe7f8f3d2e5c728eca32d9eb8ad...            13            0   \n",
       "\n",
       "                                                    target_nunique  \n",
       "customer_ID                                                         \n",
       "0000099d6bd597052cdcda90ffabf56573fe9d7c79be5fb...               1  \n",
       "00000fd6641609c6ece5454664794f0340ad84dddce9a26...               1  \n",
       "00001b22f846c82c51f6e3958ccd81970162bae8b007e80...               1  \n",
       "000041bdba6ecadd89a52d11886e8eaaec9325906c97233...               1  \n",
       "00007889e4fcd2614b6cbe7f8f3d2e5c728eca32d9eb8ad...               1  \n",
       "\n",
       "[5 rows x 867 columns]"
      ]
     },
     "execution_count": 18,
     "metadata": {},
     "output_type": "execute_result"
    }
   ],
   "source": [
    "# We are now left with 180 features\n",
    "train_df.drop(columns=missing_percentages.columns,inplace=True)\n",
    "del missing_percentages\n",
    "train_df.head()"
   ]
  },
  {
   "cell_type": "markdown",
   "id": "ed0786f8",
   "metadata": {
    "papermill": {
     "duration": 0.009517,
     "end_time": "2022-06-22T23:20:40.053337",
     "exception": false,
     "start_time": "2022-06-22T23:20:40.043820",
     "status": "completed"
    },
    "tags": []
   },
   "source": [
    "<font size=\"5\" style=\"color:#219ebc\">Data imputation</font>\n",
    "<div id=\"4\">\n",
    "    \n",
    "Now that we ensure to have enough data to predict non delinquency/risks features, we continue by doing the imputation.\n",
    "\n",
    "Imputation is a technique used for replacing the missing data with some substitute value to retain most of the data/information of the dataset. These techniques are used because removing the data from the dataset every time is not feasible and can lead to a reduction in the size of the dataset to a large extend, which not only raises concerns for biasing the dataset but also leads to incorrect analysis.\n",
    "\n",
    "Here we will use an **Iterative imputation** technique wich refers to a process where each feature is predicted using a model based on the values of the other features.\n",
    "Each feature is imputed sequentially, one after the other, allowing prior imputed values to be used as part of a model in predicting subsequent features.\n",
    "\n",
    "It is iterative because this process is repeated multiple times, allowing ever improved estimates of missing values to be calculated as missing values across all features are estimated.\n",
    "\n",
    "This approach may be generally referred to as fully conditional specification (FCS) or multivariate imputation by chained equations (MICE)."
   ]
  },
  {
   "cell_type": "code",
   "execution_count": 19,
   "id": "3b1ae6fb",
   "metadata": {
    "execution": {
     "iopub.execute_input": "2022-06-22T23:20:40.073697Z",
     "iopub.status.busy": "2022-06-22T23:20:40.073425Z",
     "iopub.status.idle": "2022-06-22T23:20:40.077979Z",
     "shell.execute_reply": "2022-06-22T23:20:40.077220Z"
    },
    "papermill": {
     "duration": 0.016842,
     "end_time": "2022-06-22T23:20:40.079610",
     "exception": false,
     "start_time": "2022-06-22T23:20:40.062768",
     "status": "completed"
    },
    "tags": []
   },
   "outputs": [],
   "source": [
    "impute_it = IterativeImputer(\n",
    "    missing_values=np.nan,\n",
    "    max_iter=16,\n",
    "    tol=0.02,\n",
    "    initial_strategy='mean',\n",
    "    imputation_order='ascending',\n",
    "    verbose=2,\n",
    "    random_state=42\n",
    ")"
   ]
  },
  {
   "cell_type": "markdown",
   "id": "2bc297da",
   "metadata": {
    "papermill": {
     "duration": 0.009412,
     "end_time": "2022-06-22T23:20:40.098375",
     "exception": false,
     "start_time": "2022-06-22T23:20:40.088963",
     "status": "completed"
    },
    "tags": []
   },
   "source": [
    "- Now we are gonna break down the imputation taking to account the features within each class."
   ]
  },
  {
   "cell_type": "code",
   "execution_count": 20,
   "id": "2da24485",
   "metadata": {
    "execution": {
     "iopub.execute_input": "2022-06-22T23:20:40.118705Z",
     "iopub.status.busy": "2022-06-22T23:20:40.118449Z",
     "iopub.status.idle": "2022-06-23T00:51:22.465074Z",
     "shell.execute_reply": "2022-06-23T00:51:22.464262Z"
    },
    "papermill": {
     "duration": 5442.358828,
     "end_time": "2022-06-23T00:51:22.467189",
     "exception": false,
     "start_time": "2022-06-22T23:20:40.108361",
     "status": "completed"
    },
    "tags": []
   },
   "outputs": [
    {
     "name": "stdout",
     "output_type": "stream",
     "text": [
      "[IterativeImputer] Completing matrix with shape (458913, 169)\n",
      "[IterativeImputer] Ending imputation round 1/16, elapsed time 2320.12\n",
      "[IterativeImputer] Change: 41.43966942287193, scaled tolerance: 115.12 \n",
      "[IterativeImputer] Early stopping criterion reached.\n",
      "[IterativeImputer] Completing matrix with shape (458913, 15)\n",
      "[IterativeImputer] Ending imputation round 1/16, elapsed time 7.58\n",
      "[IterativeImputer] Change: 1.39176575795963, scaled tolerance: 0.0485546875 \n",
      "[IterativeImputer] Ending imputation round 2/16, elapsed time 15.53\n",
      "[IterativeImputer] Change: 0.42208973266762856, scaled tolerance: 0.0485546875 \n",
      "[IterativeImputer] Ending imputation round 3/16, elapsed time 22.61\n",
      "[IterativeImputer] Change: 0.3999663355267169, scaled tolerance: 0.0485546875 \n",
      "[IterativeImputer] Ending imputation round 4/16, elapsed time 29.87\n",
      "[IterativeImputer] Change: 0.328457641699976, scaled tolerance: 0.0485546875 \n",
      "[IterativeImputer] Ending imputation round 5/16, elapsed time 37.22\n",
      "[IterativeImputer] Change: 0.2701409282901843, scaled tolerance: 0.0485546875 \n",
      "[IterativeImputer] Ending imputation round 6/16, elapsed time 44.18\n",
      "[IterativeImputer] Change: 0.2220067427221352, scaled tolerance: 0.0485546875 \n",
      "[IterativeImputer] Ending imputation round 7/16, elapsed time 51.98\n",
      "[IterativeImputer] Change: 0.18231361367680254, scaled tolerance: 0.0485546875 \n",
      "[IterativeImputer] Ending imputation round 8/16, elapsed time 59.21\n",
      "[IterativeImputer] Change: 0.14960105472066126, scaled tolerance: 0.0485546875 \n",
      "[IterativeImputer] Ending imputation round 9/16, elapsed time 66.33\n",
      "[IterativeImputer] Change: 0.12265732273781094, scaled tolerance: 0.0485546875 \n",
      "[IterativeImputer] Ending imputation round 10/16, elapsed time 73.63\n",
      "[IterativeImputer] Change: 0.10047824227785007, scaled tolerance: 0.0485546875 \n",
      "[IterativeImputer] Ending imputation round 11/16, elapsed time 81.47\n",
      "[IterativeImputer] Change: 0.08223235629662612, scaled tolerance: 0.0485546875 \n",
      "[IterativeImputer] Ending imputation round 12/16, elapsed time 88.45\n",
      "[IterativeImputer] Change: 0.06723167576013758, scaled tolerance: 0.0485546875 \n",
      "[IterativeImputer] Ending imputation round 13/16, elapsed time 95.83\n",
      "[IterativeImputer] Change: 0.05490724092569263, scaled tolerance: 0.0485546875 \n",
      "[IterativeImputer] Ending imputation round 14/16, elapsed time 103.06\n",
      "[IterativeImputer] Change: 0.04478875734235947, scaled tolerance: 0.0485546875 \n",
      "[IterativeImputer] Early stopping criterion reached.\n",
      "[IterativeImputer] Completing matrix with shape (458913, 105)\n",
      "[IterativeImputer] Ending imputation round 1/16, elapsed time 983.97\n",
      "[IterativeImputer] Change: 46.50002198504869, scaled tolerance: 17.71 \n",
      "[IterativeImputer] Ending imputation round 2/16, elapsed time 1961.59\n",
      "[IterativeImputer] Change: 19.5026467835221, scaled tolerance: 17.71 \n",
      "[IterativeImputer] Ending imputation round 3/16, elapsed time 2946.83\n",
      "[IterativeImputer] Change: 10.084118492721313, scaled tolerance: 17.71 \n",
      "[IterativeImputer] Early stopping criterion reached.\n"
     ]
    }
   ],
   "source": [
    "# Balance, payment and spend features imputation\n",
    "train_df.loc[:,train_df.columns.str.startswith('B')] =impute_it.fit_transform(train_df.loc[:,train_df.columns.str.startswith('B')])\n",
    "train_df.loc[:,train_df.columns.str.startswith('P')] =impute_it.fit_transform(train_df.loc[:,train_df.columns.str.startswith('P')])\n",
    "train_df.loc[:,train_df.columns.str.startswith('S')] =impute_it.fit_transform(train_df.loc[:,train_df.columns.str.startswith('S')])"
   ]
  },
  {
   "cell_type": "code",
   "execution_count": 21,
   "id": "2fc106b5",
   "metadata": {
    "execution": {
     "iopub.execute_input": "2022-06-23T00:51:22.492232Z",
     "iopub.status.busy": "2022-06-23T00:51:22.491919Z",
     "iopub.status.idle": "2022-06-23T00:51:30.658395Z",
     "shell.execute_reply": "2022-06-23T00:51:30.657376Z"
    },
    "papermill": {
     "duration": 8.182374,
     "end_time": "2022-06-23T00:51:30.661751",
     "exception": false,
     "start_time": "2022-06-23T00:51:22.479377",
     "status": "completed"
    },
    "tags": []
   },
   "outputs": [],
   "source": [
    "# Final training set exportation\n",
    "train_df.reset_index().to_feather('./train_df.ftr')"
   ]
  }
 ],
 "metadata": {
  "kernelspec": {
   "display_name": "Python 3",
   "language": "python",
   "name": "python3"
  },
  "language_info": {
   "codemirror_mode": {
    "name": "ipython",
    "version": 3
   },
   "file_extension": ".py",
   "mimetype": "text/x-python",
   "name": "python",
   "nbconvert_exporter": "python",
   "pygments_lexer": "ipython3",
   "version": "3.7.12"
  },
  "papermill": {
   "default_parameters": {},
   "duration": 5975.891661,
   "end_time": "2022-06-23T00:51:31.647230",
   "environment_variables": {},
   "exception": null,
   "input_path": "__notebook__.ipynb",
   "output_path": "__notebook__.ipynb",
   "parameters": {},
   "start_time": "2022-06-22T23:11:55.755569",
   "version": "2.3.4"
  }
 },
 "nbformat": 4,
 "nbformat_minor": 5
}
